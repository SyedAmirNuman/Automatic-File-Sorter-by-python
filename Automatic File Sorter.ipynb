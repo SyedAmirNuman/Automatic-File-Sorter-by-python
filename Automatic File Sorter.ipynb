{
 "cells": [
  {
   "cell_type": "markdown",
   "id": "ced16aaa",
   "metadata": {},
   "source": [
    "# Automatic File Sorter in File Explorer\n"
   ]
  },
  {
   "cell_type": "code",
   "execution_count": 1,
   "id": "00689d3a",
   "metadata": {},
   "outputs": [],
   "source": [
    "import os, shutil"
   ]
  },
  {
   "cell_type": "code",
   "execution_count": 19,
   "id": "b51aa265",
   "metadata": {},
   "outputs": [],
   "source": [
    "path = r'C:/Users/Amir/Documents/Python Tutorial for File Sorting/'"
   ]
  },
  {
   "cell_type": "code",
   "execution_count": 38,
   "id": "b3eefd09",
   "metadata": {},
   "outputs": [
    {
     "data": {
      "text/plain": [
       "['csv files', 'excel files', 'image files', 'pdf files', 'word files']"
      ]
     },
     "execution_count": 38,
     "metadata": {},
     "output_type": "execute_result"
    }
   ],
   "source": [
    "os.listdir(path)"
   ]
  },
  {
   "cell_type": "code",
   "execution_count": 30,
   "id": "9593fd06",
   "metadata": {},
   "outputs": [],
   "source": [
    "folder_names= ['csv files', 'pdf files', 'image files', 'word files', 'excel files']\n",
    "for Files in range(0,5):\n",
    "    if not os.path.exists(path + folder_names[Files]):\n",
    "        os.makedirs((path + folder_names[Files]))"
   ]
  },
  {
   "cell_type": "code",
   "execution_count": 32,
   "id": "396446ec",
   "metadata": {},
   "outputs": [],
   "source": [
    "raw_data = os.listdir(path)"
   ]
  },
  {
   "cell_type": "code",
   "execution_count": 35,
   "id": "7c72553b",
   "metadata": {},
   "outputs": [],
   "source": [
    "for files in raw_data:\n",
    "    if '.csv' in files and not os.path.exists(path + 'csv files/'+ files):\n",
    "        shutil.move(path + files, path + 'csv files/'+ files)\n",
    "    elif '.xlsx' in files and not os.path.exists(path + 'excel files/'+ files):\n",
    "        shutil.move(path + files, path + 'excel files/'+ files)\n",
    "    elif '.jpg' in files and not os.path.exists(path + 'image files/'+ files):\n",
    "        shutil.move(path + files, path + 'image files/'+ files)\n",
    "    elif '.pdf' in files and not os.path.exists(path + 'pdf files/'+ files):\n",
    "        shutil.move(path + files, path + 'pdf files/'+ files)\n",
    "    elif '.docx' in files and not os.path.exists(path + 'word files/'+ files):\n",
    "        shutil.move(path + files, path + 'word files/'+ files)\n",
    "        "
   ]
  },
  {
   "cell_type": "markdown",
   "id": "02c47cc7",
   "metadata": {},
   "source": [
    "# Putting together"
   ]
  },
  {
   "cell_type": "code",
   "execution_count": 36,
   "id": "a6f864c3",
   "metadata": {},
   "outputs": [],
   "source": [
    "folder_names= ['csv files', 'pdf files', 'image files', 'word files', 'excel files']\n",
    "for Files in range(0,5):\n",
    "    if not os.path.exists(path + folder_names[Files]):\n",
    "        os.makedirs((path + folder_names[Files]))\n",
    "        \n",
    "for files in raw_data:\n",
    "    if '.csv' in files and not os.path.exists(path + 'csv files/'+ files):\n",
    "        shutil.move(path + files, path + 'csv files/'+ files)\n",
    "    elif '.xlsx' in files and not os.path.exists(path + 'excel files/'+ files):\n",
    "        shutil.move(path + files, path + 'excel files/'+ files)\n",
    "    elif '.jpg' in files and not os.path.exists(path + 'image files/'+ files):\n",
    "        shutil.move(path + files, path + 'image files/'+ files)\n",
    "    elif '.pdf' in files and not os.path.exists(path + 'pdf files/'+ files):\n",
    "        shutil.move(path + files, path + 'pdf files/'+ files)\n",
    "    elif '.docx' in files and not os.path.exists(path + 'word files/'+ files):\n",
    "        shutil.move(path + files, path + 'word files/'+ files)\n",
    "        "
   ]
  },
  {
   "cell_type": "code",
   "execution_count": null,
   "id": "2aaea467",
   "metadata": {},
   "outputs": [],
   "source": []
  },
  {
   "cell_type": "code",
   "execution_count": null,
   "id": "aef5da4f",
   "metadata": {},
   "outputs": [],
   "source": []
  },
  {
   "cell_type": "code",
   "execution_count": null,
   "id": "2b3f6518",
   "metadata": {},
   "outputs": [],
   "source": []
  },
  {
   "cell_type": "code",
   "execution_count": null,
   "id": "7235dbf2",
   "metadata": {},
   "outputs": [],
   "source": []
  },
  {
   "cell_type": "code",
   "execution_count": null,
   "id": "994b86cb",
   "metadata": {},
   "outputs": [],
   "source": []
  },
  {
   "cell_type": "code",
   "execution_count": null,
   "id": "fe5f4479",
   "metadata": {},
   "outputs": [],
   "source": []
  },
  {
   "cell_type": "code",
   "execution_count": null,
   "id": "aaab472f",
   "metadata": {},
   "outputs": [],
   "source": []
  },
  {
   "cell_type": "code",
   "execution_count": null,
   "id": "dd8ceec4",
   "metadata": {},
   "outputs": [],
   "source": []
  },
  {
   "cell_type": "code",
   "execution_count": null,
   "id": "c7311220",
   "metadata": {},
   "outputs": [],
   "source": []
  }
 ],
 "metadata": {
  "kernelspec": {
   "display_name": "Python 3 (ipykernel)",
   "language": "python",
   "name": "python3"
  },
  "language_info": {
   "codemirror_mode": {
    "name": "ipython",
    "version": 3
   },
   "file_extension": ".py",
   "mimetype": "text/x-python",
   "name": "python",
   "nbconvert_exporter": "python",
   "pygments_lexer": "ipython3",
   "version": "3.11.5"
  }
 },
 "nbformat": 4,
 "nbformat_minor": 5
}
